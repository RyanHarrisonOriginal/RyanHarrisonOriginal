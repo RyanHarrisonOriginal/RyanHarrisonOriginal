{
 "cells": [
  {
   "cell_type": "markdown",
   "metadata": {},
   "source": [
    "\n",
    "# Leetcodeify Friend Recommendations\n",
    "Write an SQL query to recommend friends to Leetcodify users. We recommend user x to user y if:\n",
    "\n",
    "Users x and y are not friends, and\n",
    "Users x and y listened to the same three or more different songs on the same day."
   ]
  },
  {
   "cell_type": "markdown",
   "metadata": {},
   "source": [
    "# SQL CODE\n",
    "`````sql\n",
    "with base as (\n",
    "    select\n",
    "        user_id\n",
    "        , song_id\n",
    "        , day\n",
    "    from listens\n",
    "    group by user_id, song_id, day\n",
    ")\n",
    "\n",
    ", base_calc as (\n",
    "    select\n",
    "        a.user_id as user_id \n",
    "        ,b.user_id as recommended_id\n",
    "        ,a.day\n",
    "        ,count(1) as match_count\n",
    "        , concat(a.user_id,\"|\",b.user_id) as f_key\n",
    "    from base a\n",
    "    join base b\n",
    "        on a.song_id = b.song_id\n",
    "        and a.day = b.day\n",
    "        and a.user_id <> b.user_id\n",
    "    group by a.user_id, b.user_id, a.day\n",
    ")\n",
    "\n",
    ", exclusion as (\n",
    "    select concat(u1,\"|\",u2) as f_key\n",
    "    from\n",
    "    (\n",
    "        select user1_id as u1, user2_id as u2 from friendship\n",
    "        union all\n",
    "        select user2_id, user1_id from friendship\n",
    "    ) as ex\n",
    ")\n",
    "\n",
    "select  \n",
    "    user_id, recommended_id \n",
    "from base_calc \n",
    "where match_count >=3 \n",
    "    and f_key not in (select f_key from exclusion) \n",
    "group by user_id, recommended_id \n",
    "`````\n"
   ]
  },
  {
   "cell_type": "code",
   "execution_count": 1,
   "metadata": {},
   "outputs": [],
   "source": [
    "import pandas as pd"
   ]
  },
  {
   "cell_type": "code",
   "execution_count": 2,
   "metadata": {},
   "outputs": [],
   "source": [
    "\"\"\"\n",
    "    get leet code data. stored in json file\n",
    "\"\"\"\n",
    "r = open('Leetcodify Friends Recommendations Data.json','r')\n",
    "input_data = eval(r.read())\n",
    "\n",
    "r = open('Leetcodify Friends Recommendations Answer.json','r')\n",
    "answer_data = eval(r.read())"
   ]
  },
  {
   "cell_type": "code",
   "execution_count": 3,
   "metadata": {},
   "outputs": [],
   "source": [
    "pd_listens = pd.DataFrame(input_data['rows']['Listens'], columns=input_data['headers']['Listens'])\n",
    "pd_friends = pd.DataFrame(input_data['rows']['Friendship'], columns=input_data['headers']['Friendship'])\n",
    "pd_answer_sql = pd.DataFrame(answer_data['values'], columns=answer_data['headers'])"
   ]
  },
  {
   "cell_type": "code",
   "execution_count": 4,
   "metadata": {},
   "outputs": [
    {
     "data": {
      "text/html": [
       "<div>\n",
       "<style scoped>\n",
       "    .dataframe tbody tr th:only-of-type {\n",
       "        vertical-align: middle;\n",
       "    }\n",
       "\n",
       "    .dataframe tbody tr th {\n",
       "        vertical-align: top;\n",
       "    }\n",
       "\n",
       "    .dataframe thead th {\n",
       "        text-align: right;\n",
       "    }\n",
       "</style>\n",
       "<table border=\"1\" class=\"dataframe\">\n",
       "  <thead>\n",
       "    <tr style=\"text-align: right;\">\n",
       "      <th></th>\n",
       "      <th>user_id</th>\n",
       "      <th>song_id</th>\n",
       "      <th>day</th>\n",
       "    </tr>\n",
       "  </thead>\n",
       "  <tbody>\n",
       "    <tr>\n",
       "      <th>0</th>\n",
       "      <td>1</td>\n",
       "      <td>10</td>\n",
       "      <td>2021-03-15</td>\n",
       "    </tr>\n",
       "    <tr>\n",
       "      <th>1</th>\n",
       "      <td>1</td>\n",
       "      <td>11</td>\n",
       "      <td>2021-03-15</td>\n",
       "    </tr>\n",
       "    <tr>\n",
       "      <th>2</th>\n",
       "      <td>1</td>\n",
       "      <td>12</td>\n",
       "      <td>2021-03-15</td>\n",
       "    </tr>\n",
       "    <tr>\n",
       "      <th>3</th>\n",
       "      <td>2</td>\n",
       "      <td>10</td>\n",
       "      <td>2021-03-15</td>\n",
       "    </tr>\n",
       "    <tr>\n",
       "      <th>4</th>\n",
       "      <td>2</td>\n",
       "      <td>11</td>\n",
       "      <td>2021-03-15</td>\n",
       "    </tr>\n",
       "    <tr>\n",
       "      <th>5</th>\n",
       "      <td>2</td>\n",
       "      <td>12</td>\n",
       "      <td>2021-03-15</td>\n",
       "    </tr>\n",
       "    <tr>\n",
       "      <th>6</th>\n",
       "      <td>3</td>\n",
       "      <td>10</td>\n",
       "      <td>2021-03-15</td>\n",
       "    </tr>\n",
       "    <tr>\n",
       "      <th>7</th>\n",
       "      <td>3</td>\n",
       "      <td>11</td>\n",
       "      <td>2021-03-15</td>\n",
       "    </tr>\n",
       "    <tr>\n",
       "      <th>8</th>\n",
       "      <td>3</td>\n",
       "      <td>12</td>\n",
       "      <td>2021-03-15</td>\n",
       "    </tr>\n",
       "    <tr>\n",
       "      <th>9</th>\n",
       "      <td>4</td>\n",
       "      <td>10</td>\n",
       "      <td>2021-03-15</td>\n",
       "    </tr>\n",
       "    <tr>\n",
       "      <th>10</th>\n",
       "      <td>4</td>\n",
       "      <td>11</td>\n",
       "      <td>2021-03-15</td>\n",
       "    </tr>\n",
       "    <tr>\n",
       "      <th>11</th>\n",
       "      <td>4</td>\n",
       "      <td>13</td>\n",
       "      <td>2021-03-15</td>\n",
       "    </tr>\n",
       "    <tr>\n",
       "      <th>12</th>\n",
       "      <td>5</td>\n",
       "      <td>10</td>\n",
       "      <td>2021-03-16</td>\n",
       "    </tr>\n",
       "    <tr>\n",
       "      <th>13</th>\n",
       "      <td>5</td>\n",
       "      <td>11</td>\n",
       "      <td>2021-03-16</td>\n",
       "    </tr>\n",
       "    <tr>\n",
       "      <th>14</th>\n",
       "      <td>5</td>\n",
       "      <td>12</td>\n",
       "      <td>2021-03-16</td>\n",
       "    </tr>\n",
       "  </tbody>\n",
       "</table>\n",
       "</div>"
      ],
      "text/plain": [
       "    user_id  song_id         day\n",
       "0         1       10  2021-03-15\n",
       "1         1       11  2021-03-15\n",
       "2         1       12  2021-03-15\n",
       "3         2       10  2021-03-15\n",
       "4         2       11  2021-03-15\n",
       "5         2       12  2021-03-15\n",
       "6         3       10  2021-03-15\n",
       "7         3       11  2021-03-15\n",
       "8         3       12  2021-03-15\n",
       "9         4       10  2021-03-15\n",
       "10        4       11  2021-03-15\n",
       "11        4       13  2021-03-15\n",
       "12        5       10  2021-03-16\n",
       "13        5       11  2021-03-16\n",
       "14        5       12  2021-03-16"
      ]
     },
     "execution_count": 4,
     "metadata": {},
     "output_type": "execute_result"
    }
   ],
   "source": [
    "pd_listens"
   ]
  },
  {
   "cell_type": "code",
   "execution_count": 5,
   "metadata": {},
   "outputs": [
    {
     "data": {
      "text/html": [
       "<div>\n",
       "<style scoped>\n",
       "    .dataframe tbody tr th:only-of-type {\n",
       "        vertical-align: middle;\n",
       "    }\n",
       "\n",
       "    .dataframe tbody tr th {\n",
       "        vertical-align: top;\n",
       "    }\n",
       "\n",
       "    .dataframe thead th {\n",
       "        text-align: right;\n",
       "    }\n",
       "</style>\n",
       "<table border=\"1\" class=\"dataframe\">\n",
       "  <thead>\n",
       "    <tr style=\"text-align: right;\">\n",
       "      <th></th>\n",
       "      <th>user1_id</th>\n",
       "      <th>user2_id</th>\n",
       "    </tr>\n",
       "  </thead>\n",
       "  <tbody>\n",
       "    <tr>\n",
       "      <th>0</th>\n",
       "      <td>1</td>\n",
       "      <td>2</td>\n",
       "    </tr>\n",
       "  </tbody>\n",
       "</table>\n",
       "</div>"
      ],
      "text/plain": [
       "   user1_id  user2_id\n",
       "0         1         2"
      ]
     },
     "execution_count": 5,
     "metadata": {},
     "output_type": "execute_result"
    }
   ],
   "source": [
    "pd_friends"
   ]
  },
  {
   "cell_type": "code",
   "execution_count": 6,
   "metadata": {},
   "outputs": [
    {
     "data": {
      "text/html": [
       "<div>\n",
       "<style scoped>\n",
       "    .dataframe tbody tr th:only-of-type {\n",
       "        vertical-align: middle;\n",
       "    }\n",
       "\n",
       "    .dataframe tbody tr th {\n",
       "        vertical-align: top;\n",
       "    }\n",
       "\n",
       "    .dataframe thead th {\n",
       "        text-align: right;\n",
       "    }\n",
       "</style>\n",
       "<table border=\"1\" class=\"dataframe\">\n",
       "  <thead>\n",
       "    <tr style=\"text-align: right;\">\n",
       "      <th></th>\n",
       "      <th>user_id</th>\n",
       "      <th>recommended_id</th>\n",
       "    </tr>\n",
       "  </thead>\n",
       "  <tbody>\n",
       "    <tr>\n",
       "      <th>0</th>\n",
       "      <td>1</td>\n",
       "      <td>3</td>\n",
       "    </tr>\n",
       "    <tr>\n",
       "      <th>1</th>\n",
       "      <td>2</td>\n",
       "      <td>3</td>\n",
       "    </tr>\n",
       "    <tr>\n",
       "      <th>2</th>\n",
       "      <td>3</td>\n",
       "      <td>1</td>\n",
       "    </tr>\n",
       "    <tr>\n",
       "      <th>3</th>\n",
       "      <td>3</td>\n",
       "      <td>2</td>\n",
       "    </tr>\n",
       "  </tbody>\n",
       "</table>\n",
       "</div>"
      ],
      "text/plain": [
       "   user_id  recommended_id\n",
       "0        1               3\n",
       "1        2               3\n",
       "2        3               1\n",
       "3        3               2"
      ]
     },
     "execution_count": 6,
     "metadata": {},
     "output_type": "execute_result"
    }
   ],
   "source": [
    "pd_answer_sql"
   ]
  },
  {
   "cell_type": "code",
   "execution_count": 31,
   "metadata": {},
   "outputs": [],
   "source": [
    "def concat(x,y): return '|'.join([str(x),str(y)])\n",
    "\n",
    "pd_rec = pd_listens.merge(pd_listens, how=\"inner\", on=['song_id','day'] , suffixes=(\"_1\",\"_2\") )\n",
    "\n",
    "pd_rec = pd_rec[ pd_rec.user_id_1 != pd_rec.user_id_2 ]\n",
    "\n",
    "pd_rec['match_count'] = pd_rec.groupby(['user_id_1', 'user_id_2', 'day'])['user_id_1'].transform('count')\n",
    "\n",
    "pd_rec = pd_rec[['user_id_1', 'user_id_2']][ pd_rec.match_count >= 3 ]\n",
    "\n",
    "pd_rec = pd_rec.drop_duplicates()\n",
    "\n",
    "pd_rec.reset_index(inplace=True)\n",
    "\n",
    "pd_rec = pd_rec.drop(columns='index')\n",
    "pd_rec['friend_key'] = [k for k in map(concat, pd_rec.user_id_1, pd_rec.user_id_2)]\n",
    "pd_friends_1 = pd.DataFrame()\n",
    "pd_friends_1[['user1_id','user2_id']] = pd_friends[['user2_id','user1_id']]\n",
    "exclusions = pd.concat([ pd_friends, pd_friends_1] , sort = False)\n",
    "exclusions['friend_key'] = [k for k in map(concat, exclusions.user1_id, exclusions.user2_id)]\n",
    "pd_rec = pd_rec[['user_id_1','user_id_2']][ ~pd_rec.friend_key.isin(exclusions.friend_key)  ]\n",
    "pd_rec.columns = ['user_id', 'recommended_id']\n",
    "pd_rec.reset_index(inplace=True)\n",
    "pd_rec.drop(columns='index', inplace=True)"
   ]
  },
  {
   "cell_type": "code",
   "execution_count": 32,
   "metadata": {},
   "outputs": [
    {
     "data": {
      "text/html": [
       "<div>\n",
       "<style scoped>\n",
       "    .dataframe tbody tr th:only-of-type {\n",
       "        vertical-align: middle;\n",
       "    }\n",
       "\n",
       "    .dataframe tbody tr th {\n",
       "        vertical-align: top;\n",
       "    }\n",
       "\n",
       "    .dataframe thead th {\n",
       "        text-align: right;\n",
       "    }\n",
       "</style>\n",
       "<table border=\"1\" class=\"dataframe\">\n",
       "  <thead>\n",
       "    <tr style=\"text-align: right;\">\n",
       "      <th></th>\n",
       "      <th>user_id</th>\n",
       "      <th>recommended_id</th>\n",
       "    </tr>\n",
       "  </thead>\n",
       "  <tbody>\n",
       "    <tr>\n",
       "      <th>0</th>\n",
       "      <td>1</td>\n",
       "      <td>3</td>\n",
       "    </tr>\n",
       "    <tr>\n",
       "      <th>1</th>\n",
       "      <td>2</td>\n",
       "      <td>3</td>\n",
       "    </tr>\n",
       "    <tr>\n",
       "      <th>2</th>\n",
       "      <td>3</td>\n",
       "      <td>1</td>\n",
       "    </tr>\n",
       "    <tr>\n",
       "      <th>3</th>\n",
       "      <td>3</td>\n",
       "      <td>2</td>\n",
       "    </tr>\n",
       "  </tbody>\n",
       "</table>\n",
       "</div>"
      ],
      "text/plain": [
       "   user_id  recommended_id\n",
       "0        1               3\n",
       "1        2               3\n",
       "2        3               1\n",
       "3        3               2"
      ]
     },
     "execution_count": 32,
     "metadata": {},
     "output_type": "execute_result"
    }
   ],
   "source": [
    "pd_rec"
   ]
  },
  {
   "cell_type": "code",
   "execution_count": 33,
   "metadata": {},
   "outputs": [
    {
     "data": {
      "text/plain": [
       "True"
      ]
     },
     "execution_count": 33,
     "metadata": {},
     "output_type": "execute_result"
    }
   ],
   "source": [
    "pd_rec.equals(pd_answer_sql)"
   ]
  },
  {
   "cell_type": "code",
   "execution_count": null,
   "metadata": {},
   "outputs": [],
   "source": []
  }
 ],
 "metadata": {
  "interpreter": {
   "hash": "9b260df62fb74269ec98bdc469617199cb9ba38f1fbe1fea2764816d696c7477"
  },
  "kernelspec": {
   "display_name": "Python 3",
   "language": "python",
   "name": "python3"
  },
  "language_info": {
   "codemirror_mode": {
    "name": "ipython",
    "version": 3
   },
   "file_extension": ".py",
   "mimetype": "text/x-python",
   "name": "python",
   "nbconvert_exporter": "python",
   "pygments_lexer": "ipython3",
   "version": "3.7.5"
  }
 },
 "nbformat": 4,
 "nbformat_minor": 2
}
